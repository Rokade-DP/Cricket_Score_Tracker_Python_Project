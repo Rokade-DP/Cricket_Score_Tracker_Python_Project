{
 "cells": [
  {
   "cell_type": "code",
   "execution_count": 1,
   "metadata": {},
   "outputs": [],
   "source": [
    "## GUI\n",
    "## Web Scrapping From cricbuzz to get all the score\n",
    "## Display the live match updates on my python app"
   ]
  },
  {
   "cell_type": "code",
   "execution_count": 1,
   "metadata": {},
   "outputs": [
    {
     "name": "stdout",
     "output_type": "stream",
     "text": [
      "Requirement already satisfied: Pillow in d:\\data_science_project\\wafer-fault-detection-ml-project_with_ci_cd_pipeline\\env\\lib\\site-packages (10.1.0)\n",
      "Note: you may need to restart the kernel to use updated packages.\n"
     ]
    }
   ],
   "source": [
    "pip install Pillow"
   ]
  },
  {
   "cell_type": "code",
   "execution_count": 25,
   "metadata": {},
   "outputs": [],
   "source": [
    "from tkinter import *\n",
    "from PIL import ImageTk\n",
    "from tkinter.ttk import Combobox\n",
    "\n",
    "### Creating the Cricket Score Class\n",
    "class CricketScore:\n",
    "\n",
    "    # creating gui window\n",
    "    def __init__(self, rootWindow):\n",
    "        global bg\n",
    "        self.rootWindow = rootWindow\n",
    "        self.rootWindow.title(\"LIVE CRICKET SCORE\")\n",
    "        self.rootWindow.geometry('800x500')\n",
    "        self.bg = ImageTk.PhotoImage(file=\"cric.jpg\")\n",
    "        bg = Label(self.rootWindow, image=self.bg).place(x=0, y=0)\n",
    "\n",
    "        # let's give a label to my GUI\n",
    "        self.label = Label(self.rootWindow, text='Live Matches', font=(\"times new roman\", 60),compound='center').pack(padx=100, pady=50)\n",
    "\n",
    "        # adding all live matches combobox in gui\n",
    "        self.var = StringVar()\n",
    "        self.matches = self.match_details()\n",
    "        self.data = [i for i in self.matches.keys()]\n",
    "        self.cb = Combobox(self.rootWindow, values=self.data, width=50)\n",
    "        self.cb.place(x=250,y=200)\n",
    "\n",
    "\n",
    "\n",
    "\n",
    "\n",
    "# Main Fuction to start the application\n",
    "def main():\n",
    "    #start the GUI window\n",
    "    rootWindow = Tk()\n",
    "\n",
    "\n",
    "    # fetch the cricket score\n",
    "    obj = CricketScore(rootWindow)\n",
    "    rootWindow.mainloop()\n",
    "    # Keep on displaying the GUI Window to fetch the live Updates\n",
    "\n",
    "#Execute this file\n",
    "if __name__ == '__main__':\n",
    "    main()"
   ]
  },
  {
   "cell_type": "code",
   "execution_count": null,
   "metadata": {},
   "outputs": [],
   "source": []
  }
 ],
 "metadata": {
  "kernelspec": {
   "display_name": "Python 3",
   "language": "python",
   "name": "python3"
  },
  "language_info": {
   "codemirror_mode": {
    "name": "ipython",
    "version": 3
   },
   "file_extension": ".py",
   "mimetype": "text/x-python",
   "name": "python",
   "nbconvert_exporter": "python",
   "pygments_lexer": "ipython3",
   "version": "3.8.0"
  }
 },
 "nbformat": 4,
 "nbformat_minor": 2
}
