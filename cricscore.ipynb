{
 "cells": [
  {
   "cell_type": "code",
   "execution_count": 1,
   "metadata": {},
   "outputs": [],
   "source": [
    "## GUI\n",
    "## Web Scrapping From cricbuzz to get all the score\n",
    "## Display the live match updates on my python app"
   ]
  },
  {
   "cell_type": "code",
   "execution_count": 1,
   "metadata": {},
   "outputs": [
    {
     "name": "stdout",
     "output_type": "stream",
     "text": [
      "Requirement already satisfied: Pillow in d:\\data_science_project\\wafer-fault-detection-ml-project_with_ci_cd_pipeline\\env\\lib\\site-packages (10.1.0)\n",
      "Note: you may need to restart the kernel to use updated packages.\n"
     ]
    }
   ],
   "source": [
    "pip install Pillow"
   ]
  },
  {
   "cell_type": "code",
   "execution_count": 27,
   "metadata": {},
   "outputs": [
    {
     "name": "stdout",
     "output_type": "stream",
     "text": [
      "Requirement already satisfied: requests in d:\\data_science_project\\wafer-fault-detection-ml-project_with_ci_cd_pipeline\\env\\lib\\site-packages (2.31.0)Note: you may need to restart the kernel to use updated packages.\n",
      "\n",
      "Requirement already satisfied: charset-normalizer<4,>=2 in d:\\data_science_project\\wafer-fault-detection-ml-project_with_ci_cd_pipeline\\env\\lib\\site-packages (from requests) (3.3.2)\n",
      "Requirement already satisfied: idna<4,>=2.5 in d:\\data_science_project\\wafer-fault-detection-ml-project_with_ci_cd_pipeline\\env\\lib\\site-packages (from requests) (3.6)\n",
      "Requirement already satisfied: urllib3<3,>=1.21.1 in d:\\data_science_project\\wafer-fault-detection-ml-project_with_ci_cd_pipeline\\env\\lib\\site-packages (from requests) (1.26.18)\n",
      "Requirement already satisfied: certifi>=2017.4.17 in d:\\data_science_project\\wafer-fault-detection-ml-project_with_ci_cd_pipeline\\env\\lib\\site-packages (from requests) (2023.11.17)\n"
     ]
    }
   ],
   "source": [
    "pip install requests"
   ]
  },
  {
   "cell_type": "code",
   "execution_count": 28,
   "metadata": {},
   "outputs": [
    {
     "name": "stdout",
     "output_type": "stream",
     "text": [
      "Collecting bs4\n",
      "  Downloading bs4-0.0.1.tar.gz (1.1 kB)\n",
      "  Preparing metadata (setup.py): started\n",
      "  Preparing metadata (setup.py): finished with status 'done'\n",
      "Collecting beautifulsoup4 (from bs4)\n",
      "  Downloading beautifulsoup4-4.12.2-py3-none-any.whl (142 kB)\n",
      "     ---------------------------------------- 0.0/143.0 kB ? eta -:--:--\n",
      "     -------- ------------------------------- 30.7/143.0 kB ? eta -:--:--\n",
      "     ---------- -------------------------- 41.0/143.0 kB 653.6 kB/s eta 0:00:01\n",
      "     ----------------------- ------------- 92.2/143.0 kB 871.5 kB/s eta 0:00:01\n",
      "     ------------------------------------ 143.0/143.0 kB 941.4 kB/s eta 0:00:00\n",
      "Collecting soupsieve>1.2 (from beautifulsoup4->bs4)\n",
      "  Downloading soupsieve-2.5-py3-none-any.whl.metadata (4.7 kB)\n",
      "Downloading soupsieve-2.5-py3-none-any.whl (36 kB)\n",
      "Building wheels for collected packages: bs4\n",
      "  Building wheel for bs4 (setup.py): started\n",
      "  Building wheel for bs4 (setup.py): finished with status 'done'\n",
      "  Created wheel for bs4: filename=bs4-0.0.1-py3-none-any.whl size=1265 sha256=9de4aca500eba89b08b5a9d27a914b64a15cda7e69c8e9bc97b761ef99520d2e\n",
      "  Stored in directory: c:\\users\\admin\\appdata\\local\\pip\\cache\\wheels\\75\\78\\21\\68b124549c9bdc94f822c02fb9aa3578a669843f9767776bca\n",
      "Successfully built bs4\n",
      "Installing collected packages: soupsieve, beautifulsoup4, bs4\n",
      "Successfully installed beautifulsoup4-4.12.2 bs4-0.0.1 soupsieve-2.5\n",
      "Note: you may need to restart the kernel to use updated packages.\n"
     ]
    }
   ],
   "source": [
    "pip install bs4"
   ]
  },
  {
   "cell_type": "code",
   "execution_count": 35,
   "metadata": {},
   "outputs": [
    {
     "ename": "TclError",
     "evalue": "image \"pyimage23\" doesn't exist",
     "output_type": "error",
     "traceback": [
      "\u001b[1;31m---------------------------------------------------------------------------\u001b[0m",
      "\u001b[1;31mTclError\u001b[0m                                  Traceback (most recent call last)",
      "Cell \u001b[1;32mIn[35], line 132\u001b[0m\n\u001b[0;32m    128\u001b[0m     \u001b[38;5;66;03m# Keep on displaying the GUI Window to fetch the live Updates\u001b[39;00m\n\u001b[0;32m    129\u001b[0m \n\u001b[0;32m    130\u001b[0m \u001b[38;5;66;03m#Execute this file\u001b[39;00m\n\u001b[0;32m    131\u001b[0m \u001b[38;5;28;01mif\u001b[39;00m \u001b[38;5;18m__name__\u001b[39m \u001b[38;5;241m==\u001b[39m \u001b[38;5;124m'\u001b[39m\u001b[38;5;124m__main__\u001b[39m\u001b[38;5;124m'\u001b[39m:\n\u001b[1;32m--> 132\u001b[0m     \u001b[43mmain\u001b[49m\u001b[43m(\u001b[49m\u001b[43m)\u001b[49m\n",
      "Cell \u001b[1;32mIn[35], line 126\u001b[0m, in \u001b[0;36mmain\u001b[1;34m()\u001b[0m\n\u001b[0;32m    122\u001b[0m rootWindow \u001b[38;5;241m=\u001b[39m Tk()\n\u001b[0;32m    125\u001b[0m \u001b[38;5;66;03m# fetch the cricket score\u001b[39;00m\n\u001b[1;32m--> 126\u001b[0m obj \u001b[38;5;241m=\u001b[39m \u001b[43mCricketScore\u001b[49m\u001b[43m(\u001b[49m\u001b[43mrootWindow\u001b[49m\u001b[43m)\u001b[49m\n\u001b[0;32m    127\u001b[0m rootWindow\u001b[38;5;241m.\u001b[39mmainloop()\n",
      "Cell \u001b[1;32mIn[35], line 18\u001b[0m, in \u001b[0;36mCricketScore.__init__\u001b[1;34m(self, rootWindow)\u001b[0m\n\u001b[0;32m     16\u001b[0m \u001b[38;5;28mself\u001b[39m\u001b[38;5;241m.\u001b[39mrootWindow\u001b[38;5;241m.\u001b[39mgeometry(\u001b[38;5;124m'\u001b[39m\u001b[38;5;124m800x500\u001b[39m\u001b[38;5;124m'\u001b[39m)\n\u001b[0;32m     17\u001b[0m \u001b[38;5;28mself\u001b[39m\u001b[38;5;241m.\u001b[39mbg \u001b[38;5;241m=\u001b[39m ImageTk\u001b[38;5;241m.\u001b[39mPhotoImage(file\u001b[38;5;241m=\u001b[39m\u001b[38;5;124m\"\u001b[39m\u001b[38;5;124mcric.jpg\u001b[39m\u001b[38;5;124m\"\u001b[39m)\n\u001b[1;32m---> 18\u001b[0m bg \u001b[38;5;241m=\u001b[39m \u001b[43mLabel\u001b[49m\u001b[43m(\u001b[49m\u001b[38;5;28;43mself\u001b[39;49m\u001b[38;5;241;43m.\u001b[39;49m\u001b[43mrootWindow\u001b[49m\u001b[43m,\u001b[49m\u001b[43m \u001b[49m\u001b[43mimage\u001b[49m\u001b[38;5;241;43m=\u001b[39;49m\u001b[38;5;28;43mself\u001b[39;49m\u001b[38;5;241;43m.\u001b[39;49m\u001b[43mbg\u001b[49m\u001b[43m)\u001b[49m\u001b[38;5;241m.\u001b[39mplace(x\u001b[38;5;241m=\u001b[39m\u001b[38;5;241m0\u001b[39m, y\u001b[38;5;241m=\u001b[39m\u001b[38;5;241m0\u001b[39m)\n\u001b[0;32m     20\u001b[0m \u001b[38;5;66;03m# let's give a label to my GUI\u001b[39;00m\n\u001b[0;32m     21\u001b[0m \u001b[38;5;28mself\u001b[39m\u001b[38;5;241m.\u001b[39mlabel \u001b[38;5;241m=\u001b[39m Label(\u001b[38;5;28mself\u001b[39m\u001b[38;5;241m.\u001b[39mrootWindow, text\u001b[38;5;241m=\u001b[39m\u001b[38;5;124m'\u001b[39m\u001b[38;5;124mLive Matches\u001b[39m\u001b[38;5;124m'\u001b[39m, font\u001b[38;5;241m=\u001b[39m(\u001b[38;5;124m\"\u001b[39m\u001b[38;5;124mtimes new roman\u001b[39m\u001b[38;5;124m\"\u001b[39m, \u001b[38;5;241m60\u001b[39m),compound\u001b[38;5;241m=\u001b[39m\u001b[38;5;124m'\u001b[39m\u001b[38;5;124mcenter\u001b[39m\u001b[38;5;124m'\u001b[39m)\u001b[38;5;241m.\u001b[39mpack(padx\u001b[38;5;241m=\u001b[39m\u001b[38;5;241m100\u001b[39m, pady\u001b[38;5;241m=\u001b[39m\u001b[38;5;241m50\u001b[39m)\n",
      "File \u001b[1;32md:\\Data_Science_Project\\Wafer-Fault-Detection-ML-Project_With_CI_CD_Pipeline\\env\\lib\\tkinter\\__init__.py:3143\u001b[0m, in \u001b[0;36mLabel.__init__\u001b[1;34m(self, master, cnf, **kw)\u001b[0m\n\u001b[0;32m   3125\u001b[0m \u001b[38;5;28;01mdef\u001b[39;00m \u001b[38;5;21m__init__\u001b[39m(\u001b[38;5;28mself\u001b[39m, master\u001b[38;5;241m=\u001b[39m\u001b[38;5;28;01mNone\u001b[39;00m, cnf\u001b[38;5;241m=\u001b[39m{}, \u001b[38;5;241m*\u001b[39m\u001b[38;5;241m*\u001b[39mkw):\n\u001b[0;32m   3126\u001b[0m \u001b[38;5;250m    \u001b[39m\u001b[38;5;124;03m\"\"\"Construct a label widget with the parent MASTER.\u001b[39;00m\n\u001b[0;32m   3127\u001b[0m \n\u001b[0;32m   3128\u001b[0m \u001b[38;5;124;03m    STANDARD OPTIONS\u001b[39;00m\n\u001b[1;32m   (...)\u001b[0m\n\u001b[0;32m   3141\u001b[0m \n\u001b[0;32m   3142\u001b[0m \u001b[38;5;124;03m    \"\"\"\u001b[39;00m\n\u001b[1;32m-> 3143\u001b[0m     \u001b[43mWidget\u001b[49m\u001b[38;5;241;43m.\u001b[39;49m\u001b[38;5;21;43m__init__\u001b[39;49m\u001b[43m(\u001b[49m\u001b[38;5;28;43mself\u001b[39;49m\u001b[43m,\u001b[49m\u001b[43m \u001b[49m\u001b[43mmaster\u001b[49m\u001b[43m,\u001b[49m\u001b[43m \u001b[49m\u001b[38;5;124;43m'\u001b[39;49m\u001b[38;5;124;43mlabel\u001b[39;49m\u001b[38;5;124;43m'\u001b[39;49m\u001b[43m,\u001b[49m\u001b[43m \u001b[49m\u001b[43mcnf\u001b[49m\u001b[43m,\u001b[49m\u001b[43m \u001b[49m\u001b[43mkw\u001b[49m\u001b[43m)\u001b[49m\n",
      "File \u001b[1;32md:\\Data_Science_Project\\Wafer-Fault-Detection-ML-Project_With_CI_CD_Pipeline\\env\\lib\\tkinter\\__init__.py:2567\u001b[0m, in \u001b[0;36mBaseWidget.__init__\u001b[1;34m(self, master, widgetName, cnf, kw, extra)\u001b[0m\n\u001b[0;32m   2565\u001b[0m \u001b[38;5;28;01mfor\u001b[39;00m k, v \u001b[38;5;129;01min\u001b[39;00m classes:\n\u001b[0;32m   2566\u001b[0m     \u001b[38;5;28;01mdel\u001b[39;00m cnf[k]\n\u001b[1;32m-> 2567\u001b[0m \u001b[38;5;28;43mself\u001b[39;49m\u001b[38;5;241;43m.\u001b[39;49m\u001b[43mtk\u001b[49m\u001b[38;5;241;43m.\u001b[39;49m\u001b[43mcall\u001b[49m\u001b[43m(\u001b[49m\n\u001b[0;32m   2568\u001b[0m \u001b[43m    \u001b[49m\u001b[43m(\u001b[49m\u001b[43mwidgetName\u001b[49m\u001b[43m,\u001b[49m\u001b[43m \u001b[49m\u001b[38;5;28;43mself\u001b[39;49m\u001b[38;5;241;43m.\u001b[39;49m\u001b[43m_w\u001b[49m\u001b[43m)\u001b[49m\u001b[43m \u001b[49m\u001b[38;5;241;43m+\u001b[39;49m\u001b[43m \u001b[49m\u001b[43mextra\u001b[49m\u001b[43m \u001b[49m\u001b[38;5;241;43m+\u001b[39;49m\u001b[43m \u001b[49m\u001b[38;5;28;43mself\u001b[39;49m\u001b[38;5;241;43m.\u001b[39;49m\u001b[43m_options\u001b[49m\u001b[43m(\u001b[49m\u001b[43mcnf\u001b[49m\u001b[43m)\u001b[49m\u001b[43m)\u001b[49m\n\u001b[0;32m   2569\u001b[0m \u001b[38;5;28;01mfor\u001b[39;00m k, v \u001b[38;5;129;01min\u001b[39;00m classes:\n\u001b[0;32m   2570\u001b[0m     k\u001b[38;5;241m.\u001b[39mconfigure(\u001b[38;5;28mself\u001b[39m, v)\n",
      "\u001b[1;31mTclError\u001b[0m: image \"pyimage23\" doesn't exist"
     ]
    }
   ],
   "source": [
    "from tkinter import *\n",
    "from PIL import ImageTk\n",
    "from tkinter.ttk import Combobox\n",
    "from bs4 import BeautifulSoup\n",
    "import requests\n",
    "import re\n",
    "\n",
    "### Creating the Cricket Score Class\n",
    "class CricketScore:\n",
    "\n",
    "    # creating gui window\n",
    "    def __init__(self, rootWindow):\n",
    "        self.rootWindow = rootWindow\n",
    "        self.rootWindow.title(\"LIVE CRICKET SCORE\")\n",
    "        self.rootWindow.geometry('800x500')\n",
    "        self.bg = ImageTk.PhotoImage(file=\"cric.jpg\")\n",
    "        bg = Label(self.rootWindow, image=self.bg).place(x=0, y=0)\n",
    "\n",
    "        # let's give a label to my GUI\n",
    "        self.label = Label(self.rootWindow, text='Live Matches', font=(\"times new roman\", 60),compound='center').pack(padx=100, pady=50)\n",
    "\n",
    "        # adding all live matches combobox in gui\n",
    "        self.var = StringVar()\n",
    "        self.matches = self.match_details()\n",
    "        self.data = [i for i in self.matches.keys()]\n",
    "        self.cb = Combobox(self.rootWindow, values=self.data, width=50)\n",
    "        self.cb.place(x=250,y=200)\n",
    "\n",
    "    # scrapping the data from cricbuzz.com\n",
    "    def scrap(self):\n",
    "        URL = \"https://www.cricbuzz.com/\"\n",
    "        page = requests.get(URL)\n",
    "        soup = BeautifulSoup(page.content, \"html.parser\")\n",
    "        results = soup.find(id=\"match_menu_container\")\n",
    "        scrap_results = results.find_all(\"li\", class_=\"cb-match-card\")\n",
    "        return scrap_results\n",
    "    \n",
    "    # creating command for check score button\n",
    "    def select(self):\n",
    "        return self.cb.get()\n",
    "\n",
    "\n",
    "    # Load the cricket match details\n",
    "    def match_details(self):\n",
    "        details = self.scrap()\n",
    "        live_match = {}\n",
    "        for detail in details:\n",
    "            live_team_details = {}\n",
    "            summary = self.match_summary(detail)\n",
    "            if summary is not None:\n",
    "                match_header = self.match_header(detail).text\n",
    "                teams = self.teams_name(detail)\n",
    "                score_card = self.team_score(detail)\n",
    "                live_team_details['summary'] = summary.text\n",
    "                live_team_details['match_header'] = match_header\n",
    "                live_team_details['score_card'] = score_card[0] + \" :: \" + score_card[1]\n",
    "                live_match[teams[0] + \" vs \" + teams[1]] = live_team_details\n",
    "            # Load match summary\n",
    "    def match_summary(self, detail):\n",
    "        return detail.find(\"div\", class_=\"cb-mtch-crd-state\")\n",
    "    \n",
    "    # Load match header\n",
    "    def match_header(self, detail):\n",
    "        return detail.find(\"div\", class_=\"cb-mtch-crd-hdr\")\n",
    "    \n",
    "    def teams_name(self, detail):\n",
    "        l = []\n",
    "        team1_details = detail.find(\"div\", class_=\"cb-hmscg-bat-txt\").text\n",
    "        team1_index = re.search(r\"\\d\", team1_details).start() if re.search(r\"\\d\", team1_details) else len(team1_details)\n",
    "        team2_details = detail.find(\"div\", class_=\"cb-hmscg-bwl-txt\").text\n",
    "        team2_index =  re.search(r\"\\d\", team2_details).start()  if re.search(r\"\\d\", team2_details) else len(team2_details)\n",
    "        l.append(team1_details[:team1_index])\n",
    "        l.append(team2_details[:team2_index])\n",
    "        return l\n",
    "    \n",
    "    # Present details in  gui\n",
    "    def show_match_details(self):\n",
    "\n",
    "        # Building match details frame\n",
    "        self.frame1 = Frame(self.rootWindow, bg=\"#ADD8E6\")\n",
    "        self.frame1.place(x=180, y=280, width=600, height=200)\n",
    "\n",
    "        # Fetching details of match\n",
    "        x = self.matches[self.select()]\n",
    "\n",
    "        \n",
    "        # Displaying team names\n",
    "        Label(self.frame1, text=self.select() + \" - \" + x['match_header'], font=(\"times new roman\", 15, \"bold\"), bg=\"#ADD8E6\", fg=\"red\",\n",
    "                      bd=0).place(x=150, y=15)\n",
    "\n",
    "       \n",
    "        # Dispalying details of the match\n",
    "        Label(self.frame1, text=\"Score Details : \", font=(\"times new roman\", 10, \"bold\"), bg=\"#ADD8E6\", fg=\"black\",\n",
    "              bd=0).place(x=10, y=40)\n",
    "        Label(self.frame1, text=x['score_card'], font=(\"times new roman\", 10, \"bold\"), bg=\"#ADD8E6\", fg=\"black\",\n",
    "              bd=0).place(x=20, y=60)\n",
    "        \n",
    "        Label(self.frame1, text=\"Summary : \", font=(\"times new roman\", 10, \"bold\"), bg=\"#ADD8E6\", fg=\"black\",\n",
    "              bd=0).place(x=10, y=100)\n",
    "        Label(self.frame1, text=x['summary'], font=(\"times new roman\", 10, \"bold\"), bg=\"#ADD8E6\", fg=\"black\",\n",
    "              bd=0).place(x=20, y=120)\n",
    "        \n",
    "    \n",
    "    # Load team score\n",
    "    def team_score(self, detail):\n",
    "        l = []\n",
    "        team1_details = detail.find(\"div\", class_=\"cb-hmscg-bat-txt\").text\n",
    "        team2_details = detail.find(\"div\", class_=\"cb-hmscg-bwl-txt\").text\n",
    "        l.append(team1_details)\n",
    "        l.append(team2_details)\n",
    "        return l\n",
    "\n",
    "\n",
    "\n",
    "\n",
    "\n",
    "\n",
    "# Main Fuction to start the application\n",
    "def main():\n",
    "    #start the GUI window\n",
    "    rootWindow = Tk()\n",
    "\n",
    "\n",
    "    # fetch the cricket score\n",
    "    obj = CricketScore(rootWindow)\n",
    "    rootWindow.mainloop()\n",
    "    # Keep on displaying the GUI Window to fetch the live Updates\n",
    "\n",
    "#Execute this file\n",
    "if __name__ == '__main__':\n",
    "    main()"
   ]
  },
  {
   "cell_type": "code",
   "execution_count": null,
   "metadata": {},
   "outputs": [],
   "source": []
  }
 ],
 "metadata": {
  "kernelspec": {
   "display_name": "Python 3",
   "language": "python",
   "name": "python3"
  },
  "language_info": {
   "codemirror_mode": {
    "name": "ipython",
    "version": 3
   },
   "file_extension": ".py",
   "mimetype": "text/x-python",
   "name": "python",
   "nbconvert_exporter": "python",
   "pygments_lexer": "ipython3",
   "version": "3.8.0"
  }
 },
 "nbformat": 4,
 "nbformat_minor": 2
}
